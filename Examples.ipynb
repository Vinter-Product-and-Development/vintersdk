{
    "cells": [
        {
            "attachments": {},
            "cell_type": "markdown",
            "metadata": {},
            "source": [
                "## Sample Usage IPython Notebook"
            ]
        },
        {
            "cell_type": "code",
            "execution_count": 1,
            "metadata": {},
            "outputs": [],
            "source": [
                "# Install the Vinter SDK\n",
                "# !pip install vintersdk"
            ]
        },
        {
            "cell_type": "code",
            "execution_count": 2,
            "metadata": {},
            "outputs": [],
            "source": [
                "import pandas as pd\n",
                "import os\n",
                "from vintersdk import VinterAPI\n",
                "from pprint import pprint"
            ]
        },
        {
            "cell_type": "code",
            "execution_count": 3,
            "metadata": {},
            "outputs": [],
            "source": [
                "# Set the API key\n",
                "APIKEY = os.environ.get(\"VINTER_API_KEY\")"
            ]
        },
        {
            "cell_type": "code",
            "execution_count": 4,
            "metadata": {},
            "outputs": [],
            "source": [
                "# Create instances of the VinterAPI class\n",
                "vinter_multi = VinterAPI(APIKEY, \"multi_assets\")\n",
                "vinter_single = VinterAPI(APIKEY, \"single_assets\")\n",
                "vinter_staking = VinterAPI(APIKEY, \"staking_yields\")\n",
                "vinter_nav = VinterAPI(APIKEY, \"nav\")"
            ]
        },
        {
            "cell_type": "markdown",
            "metadata": {},
            "source": [
                "### Get Active Symbols"
            ]
        },
        {
            "cell_type": "code",
            "execution_count": 5,
            "metadata": {},
            "outputs": [
                {
                    "name": "stdout",
                    "output_type": "stream",
                    "text": [
                        "'Active Multi-Asset Symbols'\n",
                        "{'indicative_rebalance_date': None,\n",
                        " 'indicative_rebalance_weights': None,\n",
                        " 'long_name': 'Vinter Bytetree BOLD1 Inverse Volatility Index',\n",
                        " 'next_rebalance_date': '2023-09-29',\n",
                        " 'next_rebalance_weights': None,\n",
                        " 'next_review_date': '2023-09-22',\n",
                        " 'previous_rebalance_date': '2023-08-31',\n",
                        " 'previous_review_date': '2023-08-24',\n",
                        " 'short_name': 'BOLD1',\n",
                        " 'symbol': 'vnby-bold1-2-d',\n",
                        " 'weights': {'btc-usd-p-2-d': 0.24942606369464,\n",
                        "             'xau-usd-p-d': 0.75057393630536}}\n",
                        "--------------------------------------------------\n",
                        "Number of total active multi-asset symbols: 81\n",
                        "First 5 symbols: ['vnby-bold1-2-d', 'vncf-mom-15-d', 'vncf-wb3-50-d', 'vndi-ddv-30-d', 'vndi-ddv-30-h']\n"
                    ]
                }
            ],
            "source": [
                "# Get All Active Multi-Asset Symbols Dictionary\n",
                "active_symbols_multi = vinter_multi.get_all_active_data()\n",
                "pprint(\"Active Multi-Asset Symbols\")\n",
                "pprint(active_symbols_multi[0])\n",
                "print(\"-\"*50)\n",
                "\n",
                "# Get All Active Multi-Asset Symbols only\n",
                "active_symbols_multi = vinter_multi.get_all_active_data(symbol_only=True)\n",
                "\n",
                "print(f\"Number of total active multi-asset symbols: {len(active_symbols_multi)}\")\n",
                "print(f\"First 5 symbols: {active_symbols_multi[:5]}\")"
            ]
        },
        {
            "cell_type": "markdown",
            "metadata": {},
            "source": [
                "### Get Active Symbols for a given frequency"
            ]
        },
        {
            "cell_type": "code",
            "execution_count": 6,
            "metadata": {},
            "outputs": [
                {
                    "name": "stdout",
                    "output_type": "stream",
                    "text": [
                        "Number of filtered realtime active multi-asset symbols: 22\n",
                        "First 5 symbols: ['vndi-ddv-30-r', 'vnhx-vhashmom-12-r', 'vnk3-qualeq-30-r', 'vnpa-pando-6-r', 'vnsn-moon-10-r']\n"
                    ]
                }
            ],
            "source": [
                "# Get All Active Multi-Asset Symbols sdk filter with frequency\n",
                "# Three frequency options: \"r\", \"d\", \"h\"\n",
                "active_symbols_multi = vinter_multi.get_all_active_data(symbol_only=True, frequency=\"r\")\n",
                "\n",
                "print(f\"Number of filtered realtime active multi-asset symbols: {len(active_symbols_multi)}\")\n",
                "print(f\"First 5 symbols: {active_symbols_multi[:5]}\")"
            ]
        },
        {
            "cell_type": "markdown",
            "metadata": {},
            "source": [
                "### Get Active Symbols for a given symbol"
            ]
        },
        {
            "cell_type": "code",
            "execution_count": 7,
            "metadata": {},
            "outputs": [
                {
                    "name": "stdout",
                    "output_type": "stream",
                    "text": [
                        "{'indicative_rebalance_date': None,\n",
                        " 'indicative_rebalance_weights': None,\n",
                        " 'long_name': 'Vinter Equal Weighted 5 Index',\n",
                        " 'next_rebalance_date': '2023-10-31',\n",
                        " 'next_rebalance_weights': None,\n",
                        " 'next_review_date': '2023-10-24',\n",
                        " 'previous_rebalance_date': '2023-07-31',\n",
                        " 'previous_review_date': '2023-07-24',\n",
                        " 'short_name': 'VNEQ5',\n",
                        " 'symbol': 'vntr-eq-5-d',\n",
                        " 'weights': {'ada-usd-p-d': 0.2,\n",
                        "             'bnb-usd-p-d': 0.2,\n",
                        "             'btc-usd-p-d': 0.2,\n",
                        "             'eth-usd-p-d': 0.2,\n",
                        "             'xrp-usd-p-d': 0.2}}\n"
                    ]
                }
            ],
            "source": [
                "vntr_eq_5_d = vinter_multi.get_active_data(\"vntr-eq-5-d\")\n",
                "pprint(vntr_eq_5_d)"
            ]
        },
        {
            "cell_type": "markdown",
            "metadata": {},
            "source": [
                "### Get latest data for a given symbol"
            ]
        },
        {
            "cell_type": "code",
            "execution_count": 8,
            "metadata": {},
            "outputs": [
                {
                    "name": "stdout",
                    "output_type": "stream",
                    "text": [
                        "dict_keys(['id', 'created_at', 'symbol', 'value', 'rebalance_values', 'timestamp', 'date', 'rebalance_weights', 'current_weights', 'current_values'])\n",
                        "--------------------------------------------------\n"
                    ]
                }
            ],
            "source": [
                "# Get single data point\n",
                "data = vinter_multi.get_latest_data(symbol=\"vntr-eq-5-d\", limit=1)\n",
                "# The data returned is in schema described in the API documentation\n",
                "pprint(data[0].keys())\n",
                "print(\"-\"*50)\n"
            ]
        },
        {
            "cell_type": "code",
            "execution_count": 9,
            "metadata": {},
            "outputs": [
                {
                    "name": "stdout",
                    "output_type": "stream",
                    "text": [
                        "<class 'pandas.core.frame.DataFrame'>\n",
                        "RangeIndex: 100 entries, 0 to 99\n",
                        "Data columns (total 10 columns):\n",
                        " #   Column             Non-Null Count  Dtype  \n",
                        "---  ------             --------------  -----  \n",
                        " 0   id                 100 non-null    int64  \n",
                        " 1   created_at         100 non-null    object \n",
                        " 2   symbol             100 non-null    object \n",
                        " 3   value              100 non-null    float64\n",
                        " 4   rebalance_values   100 non-null    object \n",
                        " 5   timestamp          100 non-null    int64  \n",
                        " 6   date               100 non-null    object \n",
                        " 7   rebalance_weights  100 non-null    object \n",
                        " 8   current_weights    100 non-null    object \n",
                        " 9   current_values     100 non-null    object \n",
                        "dtypes: float64(1), int64(2), object(7)\n",
                        "memory usage: 7.9+ KB\n",
                        "None\n",
                        "--------------------------------------------------\n",
                        "{'First Date': '2023-09-20', 'Last Date': '2023-06-13'}\n"
                    ]
                }
            ],
            "source": [
                "# To get 100 rows of data\n",
                "data = vinter_multi.get_latest_data(symbol=\"vntr-eq-5-d\", limit=100)\n",
                "# A pandas dataframe can be created from the data\n",
                "df = pd.DataFrame(data)\n",
                "# Get shape of the dataframe\n",
                "print(df.info())\n",
                "print(\"-\"*50)\n",
                "# Get First and last 5 dates\n",
                "pprint({\n",
                "    \"First Date\": df[\"date\"].iloc[0],\n",
                "    \"Last Date\": df[\"date\"].iloc[-1]\n",
                "})"
            ]
        },
        {
            "cell_type": "code",
            "execution_count": 10,
            "metadata": {},
            "outputs": [
                {
                    "name": "stdout",
                    "output_type": "stream",
                    "text": [
                        "Exception: {'result': 'error', 'message': 'Invalid Symbol -- Symbol does not exist', 'status_code': 400}\n"
                    ]
                }
            ],
            "source": [
                "# How to handle exceptions and get error messages\n",
                "try:\n",
                "    # Get data for a non-existent symbol\n",
                "    invalia_symbol = \"vntr-eq-15-d\"\n",
                "    data = vinter_multi.get_latest_data(symbol=invalia_symbol, limit=1)\n",
                "except Exception as e:\n",
                "    print(f\"Exception: {e}\")"
            ]
        },
        {
            "cell_type": "markdown",
            "metadata": {},
            "source": [
                "### Get just the latest value for a given symbol"
            ]
        },
        {
            "cell_type": "code",
            "execution_count": 11,
            "metadata": {},
            "outputs": [
                {
                    "name": "stdout",
                    "output_type": "stream",
                    "text": [
                        "Latest BTC-USD Price: 27155.44 , Type: <class 'float'>\n"
                    ]
                }
            ],
            "source": [
                "# Get latest value of a btc-usd-p-d\n",
                "# As it is a single asset, the instance of the VinterAPI class is different\n",
                "latest_value_btc_usd = vinter_single.get_latest_value(symbol=\"btc-usd-p-d\")\n",
                "print(f\"Latest BTC-USD Price: {latest_value_btc_usd} , Type: {type(latest_value_btc_usd)}\")\n"
            ]
        },
        {
            "cell_type": "markdown",
            "metadata": {},
            "source": [
                "### Get data for specified dates for a given symbol"
            ]
        },
        {
            "cell_type": "code",
            "execution_count": 12,
            "metadata": {},
            "outputs": [
                {
                    "name": "stdout",
                    "output_type": "stream",
                    "text": [
                        "dict_keys(['id', 'created_at', 'symbol', 'value', 'timestamp', 'date'])\n"
                    ]
                }
            ],
            "source": [
                "# Get data for a single asset for a specific date (2023-01-01)\n",
                "get_data_by_date_btc_usd = vinter_single.get_data_by_date(symbol=\"btc-usd-p-d\", date=\"2023-01-01\")\n",
                "pprint(get_data_by_date_btc_usd[0].keys())"
            ]
        },
        {
            "cell_type": "markdown",
            "metadata": {},
            "source": [
                "### Get data for Range of dates for a given symbol"
            ]
        },
        {
            "cell_type": "code",
            "execution_count": 13,
            "metadata": {},
            "outputs": [
                {
                    "name": "stdout",
                    "output_type": "stream",
                    "text": [
                        "{'First Date': '2022-01-01', 'Last Date': '2022-12-31'}\n",
                        "--------------------------------------------------\n",
                        "{'First Date': '2022-01-01', 'Last Date': '2023-01-01'}\n"
                    ]
                }
            ],
            "source": [
                "# Get data for a single asset for a specific date (2022-01-01 to 2023-01-01)\n",
                "# The data returned is in schema described in the API documentation\n",
                "get_data_by_range_btc_usd = vinter_single.get_data_by_range(symbol=\"btc-usd-p-d\", start=\"2022-01-01\", end=\"2023-01-01\")\n",
                "df = pd.DataFrame(get_data_by_range_btc_usd)\n",
                "pprint({\n",
                "    \"First Date\": df[\"date\"].iloc[0],\n",
                "    \"Last Date\": df[\"date\"].iloc[-1]\n",
                "})\n",
                "# The end date is not included, the last date is 2022-12-31 instead of 2023-01-01\n",
                "# Due parsing of the date, the end date is set to 2023-01-01T00:00:00Z\n",
                "# So the end=\"2023-01-01T23:59:59Z\" will return the last date as 2023-01-01\n",
                "# Or the end=\"2023-01-02\" will return the last date as 2023-01-01\n",
                "print(\"-\"*50)\n",
                "get_data_by_range_btc_usd = vinter_single.get_data_by_range(symbol=\"btc-usd-p-d\", start=\"2022-01-01\", end=\"2023-01-01T23:59:59Z\")\n",
                "df = pd.DataFrame(get_data_by_range_btc_usd)\n",
                "pprint({\n",
                "    \"First Date\": df[\"date\"].iloc[0],\n",
                "    \"Last Date\": df[\"date\"].iloc[-1]\n",
                "})"
            ]
        },
        {
            "cell_type": "markdown",
            "metadata": {},
            "source": [
                "### Get current rebalance weight for a multi-asset symbol"
            ]
        },
        {
            "cell_type": "code",
            "execution_count": 14,
            "metadata": {},
            "outputs": [
                {
                    "name": "stdout",
                    "output_type": "stream",
                    "text": [
                        "{'ada-usd-p-d': 0.2,\n",
                        " 'bnb-usd-p-d': 0.2,\n",
                        " 'btc-usd-p-d': 0.2,\n",
                        " 'eth-usd-p-d': 0.2,\n",
                        " 'xrp-usd-p-d': 0.2}\n",
                        "--------------------------------------------------\n",
                        "Exception: The asset type must be multi_assets to use this function\n"
                    ]
                }
            ],
            "source": [
                "get_multi_current_rebalance_weight_vntr_eq_5_d = vinter_multi.get_multi_current_rebalance_weight(symbol=\"vntr-eq-5-d\")\n",
                "pprint(get_multi_current_rebalance_weight_vntr_eq_5_d)\n",
                "print(\"-\"*50)\n",
                "\n",
                "# It raises an exception if the asset type of the instance is not multi-asset\n",
                "try:\n",
                "    latest_value_btc_usd = vinter_single.get_multi_current_rebalance_weight(symbol=\"btc-usd-p-d\")\n",
                "except Exception as e:\n",
                "    print(f\"Exception: {e}\")"
            ]
        },
        {
            "cell_type": "markdown",
            "metadata": {},
            "source": [
                "### Get contribution of a single-asset symbol"
            ]
        },
        {
            "cell_type": "code",
            "execution_count": 15,
            "metadata": {},
            "outputs": [
                {
                    "name": "stdout",
                    "output_type": "stream",
                    "text": [
                        "['btc-usd-kraken',\n",
                        " 'btc-usd-coinbase',\n",
                        " 'btc-usd-bitstamp',\n",
                        " 'btc-usd-itbit',\n",
                        " 'btc-usd-gemini',\n",
                        " 'btc-usd-bittrex',\n",
                        " 'btc-usd-gate',\n",
                        " 'btc-usd-cryptocom',\n",
                        " 'btc-usd-exmo',\n",
                        " 'btc-usd-ascendex',\n",
                        " 'btc-usd-bitfinex']\n",
                        "--------------------------------------------------\n",
                        "Exception: The asset type must be single_assets to use this function\n"
                    ]
                }
            ],
            "source": [
                "get_single_contributions_btc_usd_p_d = vinter_single.get_single_contributions(symbol=\"btc-usd-p-d\")\n",
                "# >> ['btc-usd-p-r']\n",
                "\n",
                "# Get contribution for the real-time btc-usd-p-r\n",
                "get_single_contributions_btc_usd_p_r = vinter_single.get_single_contributions(symbol=\"btc-usd-p-r\")\n",
                "pprint(get_single_contributions_btc_usd_p_r)\n",
                "print(\"-\"*50)\n",
                "\n",
                "# It raises an exception if the asset type of the instance is not single-asset\n",
                "try:\n",
                "    get_single_contributions_vntr_eq_5_d = vinter_multi.get_single_contributions(symbol=\"vntr_eq_5_d\")\n",
                "except Exception as e:\n",
                "    print(f\"Exception: {e}\")"
            ]
        },
        {
            "cell_type": "markdown",
            "metadata": {},
            "source": [
                "### Get previous rebalance date for a multi-asset symbol"
            ]
        },
        {
            "cell_type": "code",
            "execution_count": 16,
            "metadata": {},
            "outputs": [
                {
                    "name": "stdout",
                    "output_type": "stream",
                    "text": [
                        "'Previous Rebalance Date for vntr-eq-5-d: 2023-07-31'\n"
                    ]
                }
            ],
            "source": [
                "get_multi_previous_rebalance_date_vntr_eq_5_d = vinter_multi.get_multi_previous_rebalance_date(symbol=\"vntr-eq-5-d\")\n",
                "pprint(f\"Previous Rebalance Date for vntr-eq-5-d: {get_multi_previous_rebalance_date_vntr_eq_5_d}\")"
            ]
        },
        {
            "cell_type": "markdown",
            "metadata": {},
            "source": [
                "### Get previous review date for a multi-asset symbol"
            ]
        },
        {
            "cell_type": "code",
            "execution_count": 17,
            "metadata": {},
            "outputs": [
                {
                    "name": "stdout",
                    "output_type": "stream",
                    "text": [
                        "'Previous Review Date for vntr-eq-5-d: 2023-07-24'\n"
                    ]
                }
            ],
            "source": [
                "get_multi_previous_review_date_vntr_eq_5_d = vinter_multi.get_multi_previous_review_date(symbol=\"vntr-eq-5-d\")\n",
                "pprint(f\"Previous Review Date for vntr-eq-5-d: {get_multi_previous_review_date_vntr_eq_5_d}\")"
            ]
        },
        {
            "cell_type": "markdown",
            "metadata": {},
            "source": [
                "### Get next review date for a multi-asset symbol"
            ]
        },
        {
            "cell_type": "code",
            "execution_count": 18,
            "metadata": {},
            "outputs": [
                {
                    "name": "stdout",
                    "output_type": "stream",
                    "text": [
                        "'Next Review Date for vntr-eq-5-d: 2023-10-24'\n"
                    ]
                }
            ],
            "source": [
                "get_multi_next_review_date_vntr_eq_5_d = vinter_multi.get_multi_next_review_date(symbol=\"vntr-eq-5-d\")\n",
                "pprint(f\"Next Review Date for vntr-eq-5-d: {get_multi_next_review_date_vntr_eq_5_d}\")"
            ]
        },
        {
            "cell_type": "markdown",
            "metadata": {},
            "source": [
                "### Get next rebalance date for a multi-asset symbol"
            ]
        },
        {
            "cell_type": "code",
            "execution_count": 19,
            "metadata": {},
            "outputs": [
                {
                    "name": "stdout",
                    "output_type": "stream",
                    "text": [
                        "'Next Rebalance Date for vntr-eq-5-d: 2023-10-31'\n"
                    ]
                }
            ],
            "source": [
                "get_multi_next_rebalance_date_vntr_eq_5_d = vinter_multi.get_multi_next_rebalance_date(symbol=\"vntr-eq-5-d\")\n",
                "pprint(f\"Next Rebalance Date for vntr-eq-5-d: {get_multi_next_rebalance_date_vntr_eq_5_d}\")"
            ]
        },
        {
            "cell_type": "markdown",
            "metadata": {},
            "source": [
                "### Get Next Rebalance Weight for a multi-asset symbol"
            ]
        },
        {
            "cell_type": "code",
            "execution_count": 20,
            "metadata": {},
            "outputs": [
                {
                    "name": "stdout",
                    "output_type": "stream",
                    "text": [
                        "'Next Rebalance Weight for vntr-eq-5-d: None'\n"
                    ]
                }
            ],
            "source": [
                "get_multi_next_rebalance_weight_vntr_eq_5_d = vinter_multi.get_multi_next_rebalance_weight(symbol=\"vntr-eq-5-d\")\n",
                "pprint(f\"Next Rebalance Weight for vntr-eq-5-d: {get_multi_next_rebalance_weight_vntr_eq_5_d}\")"
            ]
        }
    ],
    "metadata": {
        "kernelspec": {
            "display_name": "Python 3",
            "language": "python",
            "name": "python3"
        },
        "language_info": {
            "codemirror_mode": {
                "name": "ipython",
                "version": 3
            },
            "file_extension": ".py",
            "mimetype": "text/x-python",
            "name": "python",
            "nbconvert_exporter": "python",
            "pygments_lexer": "ipython3",
            "version": "3.9.0"
        },
        "orig_nbformat": 4,
        "vscode": {
            "interpreter": {
                "hash": "19119d71171f1aefd5b7819a18c3271bffed98452248e842481c21e4515fc226"
            }
        }
    },
    "nbformat": 4,
    "nbformat_minor": 2
}
